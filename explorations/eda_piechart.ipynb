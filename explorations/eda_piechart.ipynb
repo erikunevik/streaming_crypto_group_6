{
 "cells": [
  {
   "cell_type": "code",
   "execution_count": 23,
   "metadata": {},
   "outputs": [
    {
     "name": "stderr",
     "output_type": "stream",
     "text": [
      "2025-02-19 11:31:24.564 Thread 'MainThread': missing ScriptRunContext! This warning can be ignored when running in bare mode.\n",
      "2025-02-19 11:31:24.566 Thread 'MainThread': missing ScriptRunContext! This warning can be ignored when running in bare mode.\n",
      "2025-02-19 11:31:24.568 Thread 'MainThread': missing ScriptRunContext! This warning can be ignored when running in bare mode.\n",
      "2025-02-19 11:31:24.569 Thread 'MainThread': missing ScriptRunContext! This warning can be ignored when running in bare mode.\n"
     ]
    },
    {
     "data": {
      "text/html": [
       "<div>\n",
       "<style scoped>\n",
       "    .dataframe tbody tr th:only-of-type {\n",
       "        vertical-align: middle;\n",
       "    }\n",
       "\n",
       "    .dataframe tbody tr th {\n",
       "        vertical-align: top;\n",
       "    }\n",
       "\n",
       "    .dataframe thead th {\n",
       "        text-align: right;\n",
       "    }\n",
       "</style>\n",
       "<table border=\"1\" class=\"dataframe\">\n",
       "  <thead>\n",
       "    <tr style=\"text-align: right;\">\n",
       "      <th></th>\n",
       "      <th>Name</th>\n",
       "      <th>Market cap dominance</th>\n",
       "    </tr>\n",
       "  </thead>\n",
       "  <tbody>\n",
       "    <tr>\n",
       "      <th>0</th>\n",
       "      <td>Bitcoin</td>\n",
       "      <td>60.2131</td>\n",
       "    </tr>\n",
       "    <tr>\n",
       "      <th>1</th>\n",
       "      <td>Solana</td>\n",
       "      <td>2.6219</td>\n",
       "    </tr>\n",
       "    <tr>\n",
       "      <th>2</th>\n",
       "      <td>Others</td>\n",
       "      <td>37.1650</td>\n",
       "    </tr>\n",
       "  </tbody>\n",
       "</table>\n",
       "</div>"
      ],
      "text/plain": [
       "      Name  Market cap dominance\n",
       "0  Bitcoin               60.2131\n",
       "1   Solana                2.6219\n",
       "2   Others               37.1650"
      ]
     },
     "execution_count": 23,
     "metadata": {},
     "output_type": "execute_result"
    }
   ],
   "source": [
    "import streamlit as st\n",
    "from constants import (\n",
    "POSTGRES_DBNAME,\n",
    "POSTGRES_HOST,\n",
    "POSTGRES_PASSWORD,\n",
    "POSTGRES_PORT,\n",
    "POSTGRES_USER,    \n",
    ")\n",
    "from sqlalchemy import create_engine\n",
    "import pandas as pd\n",
    "from streamlit_autorefresh import st_autorefresh\n",
    "from currencies import currencies_dict\n",
    "from charts import line_chart, pie_chart\n",
    "from pathlib import Path\n",
    "\n",
    "\n",
    "connection = f\"postgresql+psycopg2://{POSTGRES_USER}:{POSTGRES_PASSWORD}@{POSTGRES_HOST}:{POSTGRES_PORT}/{POSTGRES_DBNAME}\"\n",
    "    \n",
    "motor = create_engine(connection)\n",
    "    \n",
    "refresh = st_autorefresh(interval=1000*10, limit=100)\n",
    "\n",
    "def import_dashboard(quotes):\n",
    "    with motor.connect() as conn:\n",
    "        df = pd.read_sql(quotes, conn)\n",
    "    \n",
    "    return df\n",
    "\n",
    "def board():\n",
    "    \n",
    "    df = import_dashboard(\"SELECT * FROM quotes_coins;\")\n",
    "    \n",
    "    return df\n",
    "    \n",
    "if __name__== \"__main__\":\n",
    "    df = board()\n",
    "        \n",
    "# Create df with sol and btc    \n",
    "pie_chart_df = df[[\"Name\", \"Market cap dominance\"]].iloc[-2:]\n",
    "\n",
    "# Creating other category\n",
    "total_dominance = pie_chart_df[\"Market cap dominance\"].sum()\n",
    "others_dominance = 100 - total_dominance\n",
    "\n",
    "# Append \"Others\" cat\n",
    "others_row = pd.DataFrame([{\"Name\": \"Others\", \"Market cap dominance\": others_dominance}])\n",
    "pie_chart_df = pd.concat([pie_chart_df, others_row], ignore_index=True)\n",
    "\n",
    "# Display the updated DataFrame\n",
    "pie_chart_df\n",
    "\n",
    "\n",
    "\n",
    "\n",
    "\n",
    "\n",
    "\n"
   ]
  }
 ],
 "metadata": {
  "kernelspec": {
   "display_name": ".venv",
   "language": "python",
   "name": "python3"
  },
  "language_info": {
   "codemirror_mode": {
    "name": "ipython",
    "version": 3
   },
   "file_extension": ".py",
   "mimetype": "text/x-python",
   "name": "python",
   "nbconvert_exporter": "python",
   "pygments_lexer": "ipython3",
   "version": "3.12.8"
  }
 },
 "nbformat": 4,
 "nbformat_minor": 2
}
