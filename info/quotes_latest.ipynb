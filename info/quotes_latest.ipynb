{
 "cells": [
  {
   "cell_type": "markdown",
   "metadata": {},
   "source": [
    "The format from quotes/latest"
   ]
  },
  {
   "cell_type": "code",
   "execution_count": null,
   "metadata": {},
   "outputs": [],
   "source": [
    "{\n",
    "\"data\": {\n",
    "\"1\": {\n",
    "\"id\": 1,\n",
    "\"name\": \"Bitcoin\",\n",
    "\"symbol\": \"BTC\",\n",
    "\"slug\": \"bitcoin\",\n",
    "\"is_active\": 1,\n",
    "\"is_fiat\": 0,\n",
    "\"circulating_supply\": 17199862,\n",
    "\"total_supply\": 17199862,\n",
    "\"max_supply\": 21000000,\n",
    "\"date_added\": \"2013-04-28T00:00:00.000Z\",\n",
    "\"num_market_pairs\": 331,\n",
    "\"cmc_rank\": 1,\n",
    "\"last_updated\": \"2018-08-09T21:56:28.000Z\",\n",
    "\"tags\": [\n",
    "\"mineable\"\n",
    "],\n",
    "\"platform\": null,\n",
    "\"self_reported_circulating_supply\": null,\n",
    "\"self_reported_market_cap\": null,\n",
    "\"quote\": {\n",
    "\"USD\": {\n",
    "\"price\": 6602.60701122,\n",
    "\"volume_24h\": 4314444687.5194,\n",
    "\"volume_change_24h\": -0.152774,\n",
    "\"percent_change_1h\": 0.988615,\n",
    "\"percent_change_24h\": 4.37185,\n",
    "\"percent_change_7d\": -12.1352,\n",
    "\"percent_change_30d\": -12.1352,\n",
    "\"market_cap\": 852164659250.2758,\n",
    "\"market_cap_dominance\": 51,\n",
    "\"fully_diluted_market_cap\": 952835089431.14,\n",
    "\"last_updated\": \"2018-08-09T21:56:28.000Z\"\n",
    "}\n",
    "}\n",
    "}\n",
    "},\n",
    "\"status\": {\n",
    "\"timestamp\": \"2025-02-13T03:00:39.025Z\",\n",
    "\"error_code\": 0,\n",
    "\"error_message\": \"\",\n",
    "\"elapsed\": 10,\n",
    "\"credit_count\": 1,\n",
    "\"notice\": \"\"\n",
    "}\n",
    "}"
   ]
  }
 ],
 "metadata": {
  "language_info": {
   "name": "python"
  }
 },
 "nbformat": 4,
 "nbformat_minor": 2
}
